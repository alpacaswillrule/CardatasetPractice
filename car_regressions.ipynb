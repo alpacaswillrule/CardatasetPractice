{
 "cells": [
  {
   "cell_type": "code",
   "execution_count": 2,
   "id": "2335b9a2",
   "metadata": {},
   "outputs": [],
   "source": [
    "\n",
    "import numpy as np\n",
    "import matplotlib.pyplot as plt\n",
    "import pandas as pd\n",
    "import fileinput\n",
    "import json\n",
    "import sklearn\n",
    "from sklearn.linear_model import LinearRegression\n",
    "from sklearn.linear_model import SGDRegressor\n",
    "from sklearn import preprocessing\n",
    "import scipy as sp\n",
    "\n"
   ]
  },
  {
   "cell_type": "code",
   "execution_count": 3,
   "id": "8cbdc87f",
   "metadata": {},
   "outputs": [],
   "source": [
    "df = pd.read_json('Data/car_transactions.jl',lines=True)\n",
    "\n",
    "def clean_dataset(df):\n",
    "    assert isinstance(df, pd.DataFrame), \"df needs to be a pd.DataFrame\"\n",
    "    df.dropna(inplace=True)\n",
    "    indices_to_keep = ~df.isin([np.nan, np.inf, -np.inf]).any(1)\n",
    "    return df[indices_to_keep]\n",
    "#cleaning dataset in case of incomplete entries\n",
    "df = clean_dataset(df)"
   ]
  },
  {
   "cell_type": "code",
   "execution_count": 4,
   "id": "cd51724a",
   "metadata": {},
   "outputs": [],
   "source": [
    "\n",
    "X = df[['frmdata','prim_damage','repair_cost','sec_damage','acv','odo','page','desc']]\n",
    "Y = df[['price']]\n",
    "\n",
    "#assigning x and y, will be adjusting both\n"
   ]
  },
  {
   "cell_type": "code",
   "execution_count": 5,
   "id": "26653e0d",
   "metadata": {},
   "outputs": [
    {
     "name": "stdout",
     "output_type": "stream",
     "text": [
      "Index(['frmdata', 'prim_damage', 'repair_cost', 'sec_damage', 'acv', 'odo',\n",
      "       'page', 'desc'],\n",
      "      dtype='object')\n",
      "Index(['prim_damage', 'repair_cost', 'sec_damage', 'acv', 'odo', 'page',\n",
      "       'Location', 'make', 'toyear', 'fryear', 'model'],\n",
      "      dtype='object')\n"
     ]
    }
   ],
   "source": [
    "\n",
    "##this code cell is very confusing, but basically removes desc and frimdata, adds make, model, fryear, toyear,location as datacolumns\n",
    "\n",
    "makes = []\n",
    "toyear = []\n",
    "fryear = []\n",
    "models = []\n",
    "Location = []\n",
    "\n",
    "print(X.columns)\n",
    "##below code will go through frmdata, and make lists for make, toyear and fryear for splitting into multiple columns\n",
    "for key, value in X.iterrows():\n",
    "    makes.append(value[0]['Make'])\n",
    "    toyear.append(value[0]['ToYear'])\n",
    "    fryear.append(value[0]['FrYear'])\n",
    "    Location.append(value[7].split(\"Location:\",1)[1])\n",
    "#this for loop is for checking the make and desc for the model name to find the correct model and append it, if not gives notfound    \n",
    "    modelandyear = value[7].split(\";\",1)[0]\n",
    "    model = modelandyear[4:] #truncating year from the model type\n",
    "    models.append(model)\n",
    "    \n",
    "\n",
    "            \n",
    "\n",
    "#deleting and assigning our columns    \n",
    "X = X.assign(Location = Location)\n",
    "X = X.assign(make = makes)\n",
    "X = X.assign(toyear = toyear)\n",
    "X = X.assign(fryear = fryear)\n",
    "X = X.assign(model = models)\n",
    "X = X.drop('frmdata',axis=1)\n",
    "X = X.drop('desc',axis=1)\n",
    "print(X.columns)\n",
    "\n",
    "#now our X values look like we want them to!\n",
    "\n",
    "#plt.plot(X.frmdata,Y.price)"
   ]
  },
  {
   "cell_type": "code",
   "execution_count": 6,
   "id": "7b02589c",
   "metadata": {
    "scrolled": true
   },
   "outputs": [],
   "source": [
    "import locale\n",
    "locale.setlocale(locale.LC_ALL, 'en_US.UTF8')\n",
    "#gonna convert from string to numerical monies\n",
    "def encodemoney(Y,index):\n",
    "    money = []\n",
    "    for key, value in Y.iterrows():\n",
    "        if isinstance(value[index], np.floating):\n",
    "            money.append(value[index])\n",
    "        if value[index] == \"\" or value[index] is None:\n",
    "            money.append(0)\n",
    "        else:\n",
    "            length = len(value[index])\n",
    "            #print(value[index])\n",
    "            #print(length)\n",
    "            if value[index][length-3] == 'C':\n",
    "                ans = value[index].strip(\"CAD\")\n",
    "                money.append(.79 * locale.atof(ans.strip(\"$\")))\n",
    "            else:\n",
    "                ans = value[index].strip(\"USD\")\n",
    "                money.append(locale.atof(ans.strip(\"$\")))\n",
    "    return money\n",
    "\n",
    "\n",
    "Y = Y.assign(price = encodemoney(Y,0))\n",
    "\n",
    "X = X.assign(repair_cost = encodemoney(X,1))\n",
    "#encoding money for nessecary columns          "
   ]
  },
  {
   "cell_type": "code",
   "execution_count": 7,
   "id": "68eaa06a",
   "metadata": {},
   "outputs": [],
   "source": [
    "X = X.assign(acv = encodemoney(X,3))"
   ]
  },
  {
   "cell_type": "code",
   "execution_count": 61,
   "id": "f633695c",
   "metadata": {
    "scrolled": true
   },
   "outputs": [],
   "source": [
    "\n",
    "\n",
    "df = X.assign(price = Y)\n",
    "#gimmick to put prices into X so can get samples for Y too for training\n",
    "\n",
    "from sklearn.model_selection import train_test_split\n",
    "\n",
    "train, test = train_test_split(df, test_size = .2)\n",
    "\n",
    "X_test = test[['prim_damage', 'repair_cost', 'sec_damage', 'acv', 'odo', 'page',\n",
    "       'Location', 'make', 'toyear', 'fryear', 'model']]\n",
    "X_train = train[['prim_damage', 'repair_cost', 'sec_damage', 'acv', 'odo', 'page',\n",
    "       'Location', 'make', 'toyear', 'fryear', 'model']]\n",
    "Y_test = test[['price']]\n",
    "Y_train = train[['price']]\n",
    "\n",
    "\n",
    "##adjust parameters of the model so its not computationally impossible\n",
    "#xchoice  = input(\"choose a column\")\n",
    "xchoice = [\n",
    "       'acv','Location' ]\n",
    "X_test = X_test[xchoice]\n",
    "X_train = X_train[xchoice]\n",
    "\n",
    "##encoding our x values\n",
    "le = preprocessing.OneHotEncoder()\n",
    "le.fit(X[xchoice])\n",
    "X_test = le.transform(X_test)     \n",
    "X_train = le.transform(X_train) \n",
    "\n",
    "\n",
    "#dont need to encode y, is money value\n",
    "    \n"
   ]
  },
  {
   "cell_type": "code",
   "execution_count": 62,
   "id": "68e2cb5b",
   "metadata": {},
   "outputs": [],
   "source": [
    "\n",
    "\n",
    "\n",
    "\n",
    "from sklearn.pipeline import make_pipeline\n",
    "from sklearn.linear_model import Ridge\n",
    "from sklearn.linear_model import Lasso\n",
    "\n",
    "Y_trainnp = Y_train.to_numpy() #some models dont take pddataframes\n",
    "\n",
    "\n",
    "#create models and run it from here on out"
   ]
  },
  {
   "cell_type": "code",
   "execution_count": 67,
   "id": "a15c7b51",
   "metadata": {},
   "outputs": [],
   "source": [
    "model0 = LinearRegression().fit(X_train,Y_train)"
   ]
  },
  {
   "cell_type": "code",
   "execution_count": 68,
   "id": "be6a10bd",
   "metadata": {},
   "outputs": [
    {
     "name": "stdout",
     "output_type": "stream",
     "text": [
      "linear regression training score\n",
      "0.7111310119246923\n",
      "linear regression test score\n",
      "0.3729385191376573\n"
     ]
    }
   ],
   "source": [
    "print(\"linear regression training score\")\n",
    "print(model0.score(X_train, Y_train ))\n",
    "print(\"linear regression test score\")\n",
    "print(model0.score(X_test, Y_test))"
   ]
  },
  {
   "cell_type": "code",
   "execution_count": 65,
   "id": "0ecc6ef7",
   "metadata": {},
   "outputs": [],
   "source": [
    "model1 = Ridge().fit(X_train,Y_trainnp)"
   ]
  },
  {
   "cell_type": "code",
   "execution_count": 66,
   "id": "a5944407",
   "metadata": {},
   "outputs": [
    {
     "name": "stdout",
     "output_type": "stream",
     "text": [
      "Ridge training score\n",
      "0.6150850310465572\n",
      "Ridge test score\n",
      "0.3728072161430348\n"
     ]
    }
   ],
   "source": [
    "print(\"Ridge training score\")\n",
    "print(model1.score(X_train, Y_train ))\n",
    "print(\"Ridge test score\")\n",
    "print(model1.score(X_test, Y_test))"
   ]
  },
  {
   "cell_type": "code",
   "execution_count": 45,
   "id": "6658ada4",
   "metadata": {},
   "outputs": [
    {
     "name": "stderr",
     "output_type": "stream",
     "text": [
      "C:\\Users\\johan\\Anaconda3\\lib\\site-packages\\sklearn\\utils\\validation.py:993: DataConversionWarning: A column-vector y was passed when a 1d array was expected. Please change the shape of y to (n_samples, ), for example using ravel().\n",
      "  y = column_or_1d(y, warn=True)\n",
      "C:\\Users\\johan\\Anaconda3\\lib\\site-packages\\sklearn\\linear_model\\_stochastic_gradient.py:1503: ConvergenceWarning: Maximum number of iteration reached before convergence. Consider increasing max_iter to improve the fit.\n",
      "  warnings.warn(\n"
     ]
    }
   ],
   "source": [
    "model2 = SGDRegressor().fit(X_train,Y_trainnp)"
   ]
  },
  {
   "cell_type": "code",
   "execution_count": 46,
   "id": "312fbe79",
   "metadata": {},
   "outputs": [
    {
     "name": "stdout",
     "output_type": "stream",
     "text": [
      "SGD regressor score\n",
      "0.12720454795098035\n",
      "SGD regressor test score\n",
      "0.12489273643462784\n"
     ]
    }
   ],
   "source": [
    "print(\"SGD regressor score\")\n",
    "print(model2.score(X_train, Y_train ))\n",
    "print(\"SGD regressor test score\")\n",
    "print(model2.score(X_test, Y_test))"
   ]
  },
  {
   "cell_type": "code",
   "execution_count": 63,
   "id": "ab56919f",
   "metadata": {},
   "outputs": [],
   "source": [
    "from sklearn.linear_model import RANSACRegressor\n",
    "model3 = RANSACRegressor().fit(X_train,Y_trainnp)"
   ]
  },
  {
   "cell_type": "code",
   "execution_count": 64,
   "id": "4820dbb8",
   "metadata": {},
   "outputs": [
    {
     "name": "stdout",
     "output_type": "stream",
     "text": [
      "RANSAC training score\n",
      "0.3135028933891013\n",
      "RANSAC  test score\n",
      "0.21572212014796854\n"
     ]
    }
   ],
   "source": [
    "print(\"RANSAC training score\")\n",
    "print(model3.score(X_train, Y_train ))\n",
    "print(\"RANSAC  test score\")\n",
    "print(model3.score(X_test, Y_test))"
   ]
  },
  {
   "cell_type": "code",
   "execution_count": 86,
   "id": "e5f6ffae",
   "metadata": {},
   "outputs": [
    {
     "data": {
      "text/plain": [
       "Text(0.5, 1.0, 'histogram of prices, truncated to remove some outliers above 200000')"
      ]
     },
     "execution_count": 86,
     "metadata": {},
     "output_type": "execute_result"
    },
    {
     "data": {
      "image/png": "[encoded data removed]",
      "text/plain": [
       "<Figure size 432x288 with 1 Axes>"
      ]
     },
     "metadata": {
      "needs_background": "light"
     },
     "output_type": "display_data"
    }
   ],
   "source": [
    "plot = Y.head(2000)\n",
    "plt.hist(plot,100, range = (0,20000))\n",
    "plt.xlabel = \"dollars, 1000 bins\"\n",
    "plt.ylabel = \"number of cars\"\n",
    "plt.title(\"histogram of prices, truncated to remove some outliers above 200000\")"
   ]
  },
  {
   "cell_type": "code",
   "execution_count": 93,
   "id": "f7de3290",
   "metadata": {},
   "outputs": [
    {
     "data": {
      "text/plain": [
       "Text(0.5, 1.0, 'scatterplot of prices at different locations')"
      ]
     },
     "execution_count": 93,
     "metadata": {},
     "output_type": "execute_result"
    },
    {
     "data": {
      "image/png": "[encoded data removed]",
      "text/plain": [
       "<Figure size 432x288 with 1 Axes>"
      ]
     },
     "metadata": {
      "needs_background": "light"
     },
     "output_type": "display_data"
    }
   ],
   "source": [
    "plot1 = X['Location'].head(2000)\n",
    "\n",
    "plt.scatter(plot1,Y.head(2000))\n",
    "plt.title(\"scatterplot of prices at different locations\")"
   ]
  }
 ],
 "metadata": {
  "kernelspec": {
   "display_name": "Python 3 (ipykernel)",
   "language": "python",
   "name": "python3"
  },
  "language_info": {
   "codemirror_mode": {
    "name": "ipython",
    "version": 3
   },
   "file_extension": ".py",
   "mimetype": "text/x-python",
   "name": "python",
   "nbconvert_exporter": "python",
   "pygments_lexer": "ipython3",
   "version": "3.8.1"
  }
 },
 "nbformat": 4,
 "nbformat_minor": 5
}
